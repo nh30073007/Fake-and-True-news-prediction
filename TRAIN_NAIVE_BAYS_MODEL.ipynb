{
 "cells": [
  {
   "cell_type": "code",
   "execution_count": 3,
   "id": "d9c33055",
   "metadata": {},
   "outputs": [
    {
     "name": "stdout",
     "output_type": "stream",
     "text": [
      "Accuracy: 0.939977728285078\n",
      "Classification Report:\n",
      "              precision    recall  f1-score   support\n",
      "\n",
      "           0       0.95      0.93      0.94      4669\n",
      "           1       0.93      0.95      0.94      4311\n",
      "\n",
      "    accuracy                           0.94      8980\n",
      "   macro avg       0.94      0.94      0.94      8980\n",
      "weighted avg       0.94      0.94      0.94      8980\n",
      "\n"
     ]
    }
   ],
   "source": [
    "#USED NAIVE BAYS CLASSIFICATION MODEL \n",
    "\n",
    "import pandas as pd\n",
    "import re\n",
    "import nltk\n",
    "from nltk.tokenize import word_tokenize\n",
    "from nltk.corpus import stopwords\n",
    "from nltk.stem import WordNetLemmatizer\n",
    from sklearn.naive_bayes import MultinomialNB
    "from sklearn.feature_extraction.text import TfidfVectorizer\n",
    "\n",
    "# TRUE_DATASET\n",
    "true_data = pd.read_csv(r\"C:\\Users\\nh013\\Desktop\\fake and real news dataset\\True.csv\")\n",
    "\n",
    "# FAKE_DATASET\n",
    "fake_data = pd.read_csv(r\"C:\\Users\\nh013\\Desktop\\fake and real news dataset\\Fake.csv\")\n",
    "\n",
    "# LABEL 1 TRUE AND LABEL 0 FAKE\n",
    "true_data['label'] = 1\n",
    "fake_data['label'] = 0\n",
    "\n",
    "# COMBINE DATASET\n",
    "combined_data = pd.concat([true_data, fake_data], ignore_index=True)\n",
    "\n",
    "# EXCHANGE THE COMBINE DATASET\n",
    "combined_data = combined_data.sample(frac=1, random_state=42).reset_index(drop=True)\n",
    "\n",
    "# CONVERT TO LOWERCASE, REMOVE SPECIAL CHARACTERS, TOKENIZATION\n",
    "combined_data['text'] = combined_data['text'].str.lower()\n",
    "combined_data['text'] = combined_data['text'].apply(lambda x: re.sub(r'[^\\w\\s]', '', str(x)))\n",
    "combined_data['text'] = combined_data['text'].apply(lambda x: word_tokenize(x))\n",
    "\n",
    "# REMOVE STOPWORDS, LEMMATIZATION\n",
    "stop_words = set(stopwords.words('english'))\n",
    "combined_data['text'] = combined_data['text'].apply(lambda x: [word for word in x if word not in stop_words])\n",
    "\n",
    "lemmatizer = WordNetLemmatizer()\n",
    "combined_data['text'] = combined_data['text'].apply(lambda x: [lemmatizer.lemmatize(word) for word in x])\n",
    "\n",
    "# CONVERT TOKENIZED TEXT TO STRING\n",
    "combined_data['text'] = combined_data['text'].apply(lambda x: ' '.join(x))\n",
    "\n",
    "# TF-IDF VECTORIZATION\n",
    "vectorizer = TfidfVectorizer()\n",
    "X = vectorizer.fit_transform(combined_data['text'])\n",
    "y = combined_data['label']\n",
    "\n",
    "# SPLIT DATA\n",
    "X_train, X_test, y_train, y_test = train_test_split(X, y, test_size=0.2, random_state=42)\n",
    "\n",
    "#TRAIN NAIVE BAYS CLASSIFIER MODEL\n",
    "\n",
    "nb_classifier = MultinomialNB()\n",
    "pred = nb_classifier.predict(X_test)\n",
    "\n",
    "\n",
    "# Evaluate the model\n",
    "accuracy = accuracy_score(y_test, y_pred)\n",
    "report = classification_report(y_test, y_pred)\n",
    "\n",
    "print(\"Accuracy:\", accuracy)\n",
    "print(\"Classification Report:\")\n",
    "print(report)\n"
   ]
  },
  {
   "cell_type": "code",
   "execution_count": null,
   "id": "b11b0dff",
   "metadata": {},
   "outputs": [],
   "source": []
  }
 ],
 "metadata": {
  "kernelspec": {
   "display_name": "Python 3 (ipykernel)",
   "language": "python",
   "name": "python3"
  },
  "language_info": {
   "codemirror_mode": {
    "name": "ipython",
    "version": 3
   },
   "file_extension": ".py",
   "mimetype": "text/x-python",
   "name": "python",
   "nbconvert_exporter": "python",
   "pygments_lexer": "ipython3",
   "version": "3.10.9"
  }
 },
 "nbformat": 4,
 "nbformat_minor": 5
}
