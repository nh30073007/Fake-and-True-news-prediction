{
 "cells": [
  {
   "cell_type": "code",
   "execution_count": 4,
   "id": "03399c56",
   "metadata": {},
   "outputs": [
    {
     "name": "stdout",
     "output_type": "stream",
     "text": [
      "Enter the news text: WASHINGTON (Reuters) - The head of a conservative Republican faction in the U.S. Congress, who voted this month for a huge expansion of the national debt to pay for tax cuts, called himself a “fiscal conservative” on Sunday and urged budget restraint in 2018. In keeping with a sharp pivot under way among Republicans, U.S. Representative Mark Meadows, speaking on CBS’ “Face the Nation,” drew a hard line on federal spending, which lawmakers are bracing to do battle over in January. When they return from the holidays on Wednesday, lawmakers will begin trying to pass a federal budget in a fight likely to be linked to other issues, such as immigration policy, even as the November congressional election campaigns approach in which Republicans will seek to keep control of Congress. President Donald Trump and his Republicans want a big budget increase in military spending, while Democrats also want proportional increases for non-defense “discretionary\n",
      "The news is classified as TRUE.\n"
     ]
    }
   ],
   "source": [
    "#CREATE USER INPUT TO INTERECT WITH MODEL\n",
    "\n",
    "import pandas as pd\n",
    "import re\n",
    "import nltk\n",
    "from nltk.tokenize import word_tokenize\n",
    "from nltk.corpus import stopwords\n",
    "from nltk.stem import WordNetLemmatizer\n",
    "from sklearn.feature_extraction.text import TfidfVectorizer\n",
    "from sklearn.naive_bayes import MultinomialNB\n",
    "\n",
    "#DATASET\n",
    "true_data = pd.read_csv(r\"C:\\Users\\nh013\\Desktop\\fake and real news dataset\\True.csv\")\n",
    "fake_data = pd.read_csv(r\"C:\\Users\\nh013\\Desktop\\fake and real news dataset\\Fake.csv\")\n",
    "true_data['label'] = 1\n",
    "fake_data['label'] = 0\n",
    "combined_data = pd.concat([true_data, fake_data], ignore_index=True)\n",
    "combined_data = combined_data.sample(frac=1, random_state=42).reset_index(drop=True)\n",
    "combined_data['text'] = combined_data['text'].str.lower()\n",
    "combined_data['text'] = combined_data['text'].apply(lambda x: re.sub(r'[^\\w\\s]', '', str(x)))\n",
    "combined_data['text'] = combined_data['text'].apply(lambda x: word_tokenize(x))\n",
    "stop_words = set(stopwords.words('english'))\n",
    "combined_data['text'] = combined_data['text'].apply(lambda x: [word for word in x if word not in stop_words])\n",
    "lemmatizer = WordNetLemmatizer()\n",
    "combined_data['text'] = combined_data['text'].apply(lambda x: [lemmatizer.lemmatize(word) for word in x])\n",
    "combined_data['text'] = combined_data['text'].apply(lambda x: ' '.join(x))\n",
    "\n",
    "# TF-IDF vVECTORIZATION\n",
    "vectorizer = TfidfVectorizer()\n",
    "X = vectorizer.fit_transform(combined_data['text'])\n",
    "y = combined_data['label']\n",
    "\n",
    "# TRAIN MODEL\n",
    "nb_classifier = MultinomialNB()\n",
    "nb_classifier.fit(X, y)\n",
    "\n",
    "# BUILD USER INPUT AND PREDICT THE CLASS TRUE OR FAKE \n",
    "\n",
    "user_input = input(\"Enter the news text: \")\n",
    "preprocessed_input = re.sub(r'[^\\w\\s]', '', user_input.lower())\n",
    "tokenized_input = word_tokenize(preprocessed_input)\n",
    "filtered_input = [word for word in tokenized_input if word not in stop_words]\n",
    "lemmatized_input = [lemmatizer.lemmatize(word) for word in filtered_input]\n",
    "processed_input = ' '.join(lemmatized_input)\n",
    "X_user = vectorizer.transform([processed_input])\n",
    "prediction = nb_classifier.predict(X_user)\n",
    "\n",
    "if prediction[0] == 1:\n",
    "    print(\"The news is classified as TRUE.\")\n",
    "else:\n",
    "    print(\"The news is classified as FAKE.\")\n"
   ]
  },
  {
   "cell_type": "code",
   "execution_count": null,
   "id": "d0232e68",
   "metadata": {},
   "outputs": [],
   "source": []
  }
 ],
 "metadata": {
  "kernelspec": {
   "display_name": "Python 3 (ipykernel)",
   "language": "python",
   "name": "python3"
  },
  "language_info": {
   "codemirror_mode": {
    "name": "ipython",
    "version": 3
   },
   "file_extension": ".py",
   "mimetype": "text/x-python",
   "name": "python",
   "nbconvert_exporter": "python",
   "pygments_lexer": "ipython3",
   "version": "3.10.9"
  }
 },
 "nbformat": 4,
 "nbformat_minor": 5
}
